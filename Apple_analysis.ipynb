{
 "cells": [
  {
   "cell_type": "code",
   "execution_count": 0,
   "metadata": {
    "application/vnd.databricks.v1+cell": {
     "cellMetadata": {
      "byteLimit": 2048000,
      "rowLimit": 10000
     },
     "inputWidgets": {},
     "nuid": "1ab84c58-83ac-4a19-8981-12fc26b578d3",
     "showTitle": false,
     "tableResultSettingsMap": {},
     "title": ""
    }
   },
   "outputs": [],
   "source": [
    "%run \"/Users/yojanaghimire5@gmail.com/Apple/Transform\""
   ]
  },
  {
   "cell_type": "code",
   "execution_count": 0,
   "metadata": {
    "application/vnd.databricks.v1+cell": {
     "cellMetadata": {
      "byteLimit": 2048000,
      "rowLimit": 10000
     },
     "inputWidgets": {},
     "nuid": "d7dca61a-726b-4211-8c59-2b970bccb43e",
     "showTitle": false,
     "tableResultSettingsMap": {},
     "title": ""
    }
   },
   "outputs": [],
   "source": [
    "%run \"/Users/yojanaghimire5@gmail.com/Apple/Extractor\""
   ]
  },
  {
   "cell_type": "code",
   "execution_count": 0,
   "metadata": {
    "application/vnd.databricks.v1+cell": {
     "cellMetadata": {
      "byteLimit": 2048000,
      "rowLimit": 10000
     },
     "inputWidgets": {},
     "nuid": "6ee58623-d7ec-4944-ba60-3fd02f17cd7c",
     "showTitle": false,
     "tableResultSettingsMap": {},
     "title": ""
    }
   },
   "outputs": [],
   "source": [
    "%run \"/Users/yojanaghimire5@gmail.com/Apple/Loader\""
   ]
  },
  {
   "cell_type": "code",
   "execution_count": 0,
   "metadata": {
    "application/vnd.databricks.v1+cell": {
     "cellMetadata": {
      "byteLimit": 2048000,
      "rowLimit": 10000
     },
     "inputWidgets": {},
     "nuid": "d0a9ae0a-a23b-478d-8d67-1c413d214eed",
     "showTitle": false,
     "tableResultSettingsMap": {},
     "title": ""
    }
   },
   "outputs": [
    {
     "output_type": "stream",
     "name": "stdout",
     "output_type": "stream",
     "text": [
      "<function AirpodsAfterIphoneExtractor.__init__ at 0x7f4c2df213a0>\n+--------------+-----------+------------+----------------+\n|transaction_id|customer_id|product_name|transaction_date|\n+--------------+-----------+------------+----------------+\n|            11|        105|      iPhone|      2022-02-01|\n|            14|        105|     AirPods|      2022-02-04|\n|            18|        105|     MacBook|      2022-02-08|\n|            12|        106|      iPhone|      2022-02-02|\n|            16|        106|     MacBook|      2022-02-06|\n|            20|        106|     AirPods|      2022-02-10|\n|            13|        107|     AirPods|      2022-02-03|\n|            17|        107|      iPhone|      2022-02-07|\n|            15|        108|      iPhone|      2022-02-05|\n|            19|        108|     AirPods|      2022-02-09|\n+--------------+-----------+------------+----------------+\n\n+-----------+-------------+----------+--------+\n|customer_id|customer_name| join_date|location|\n+-----------+-------------+----------+--------+\n|        105|          Eva|2022-01-01|    Ohio|\n|        106|        Frank|2022-02-01|  Nevada|\n|        107|        Grace|2022-03-01|Colorado|\n|        108|        Henry|2022-04-01|    Utah|\n+-----------+-------------+----------+--------+\n\ntransactionInputDF in transform\n+--------------+-----------+------------+----------------+\n|transaction_id|customer_id|product_name|transaction_date|\n+--------------+-----------+------------+----------------+\n|            11|        105|      iPhone|      2022-02-01|\n|            12|        106|      iPhone|      2022-02-02|\n|            13|        107|     AirPods|      2022-02-03|\n|            14|        105|     AirPods|      2022-02-04|\n|            15|        108|      iPhone|      2022-02-05|\n|            16|        106|     MacBook|      2022-02-06|\n|            17|        107|      iPhone|      2022-02-07|\n|            18|        105|     MacBook|      2022-02-08|\n|            19|        108|     AirPods|      2022-02-09|\n|            20|        106|     AirPods|      2022-02-10|\n+--------------+-----------+------------+----------------+\n\nAirpods after buying iphone\n+--------------+-----------+------------+----------------+-----------------+\n|transaction_id|customer_id|product_name|transaction_date|next_product_name|\n+--------------+-----------+------------+----------------+-----------------+\n|            11|        105|      iPhone|      2022-02-01|          AirPods|\n|            14|        105|     AirPods|      2022-02-04|          MacBook|\n|            18|        105|     MacBook|      2022-02-08|             null|\n|            12|        106|      iPhone|      2022-02-02|          MacBook|\n|            16|        106|     MacBook|      2022-02-06|          AirPods|\n|            20|        106|     AirPods|      2022-02-10|             null|\n|            13|        107|     AirPods|      2022-02-03|           iPhone|\n|            17|        107|      iPhone|      2022-02-07|             null|\n|            15|        108|      iPhone|      2022-02-05|          AirPods|\n|            19|        108|     AirPods|      2022-02-09|             null|\n+--------------+-----------+------------+----------------+-----------------+\n\n+--------------+-----------+------------+----------------+-----------------+\n|transaction_id|customer_id|product_name|transaction_date|next_product_name|\n+--------------+-----------+------------+----------------+-----------------+\n+--------------+-----------+------------+----------------+-----------------+\n\n+-----------+-------------+----------+--------+\n|customer_id|customer_name| join_date|location|\n+-----------+-------------+----------+--------+\n|        105|          Eva|2022-01-01|    Ohio|\n|        106|        Frank|2022-02-01|  Nevada|\n|        107|        Grace|2022-03-01|Colorado|\n|        108|        Henry|2022-04-01|    Utah|\n+-----------+-------------+----------+--------+\n\nJOINED DF\n+-----------+-------------+--------+\n|customer_id|customer_name|location|\n+-----------+-------------+--------+\n+-----------+-------------+--------+\n\n"
     ]
    }
   ],
   "source": [
    "from pyspark.sql import SparkSession\n",
    "\n",
    "class WorkFlow:\n",
    "    def __init__(self):\n",
    "        self.spark = SparkSession.builder\\\n",
    "            .appName(\"AirpodsAfteriphone\")\\\n",
    "                .getOrCreate()\n",
    "        pass\n",
    "    def runner(self):\n",
    "\n",
    "        #Step 1 : Extract all required data from different source\n",
    "        inputDf = AirpodsAfterIphoneExtractor(self.spark).extract()\n",
    "\n",
    "        #Step 2 : Implement the transformation logic \n",
    "        #Customers who have bought Airpods after buying the iphone\n",
    "\n",
    "        firstTransformDF = FirstTransform(self.spark).transform(inputDf)\n",
    "\n",
    "\n",
    "        #Step 3 : Load all required data from different sink\n",
    "        AirPodsAfterIphoneLoader(firstTransformDF).sink()\n",
    "\n",
    "        return firstTransformDF\n",
    "\n",
    "        #transactionInputDf.orderBy(\"customer_id\",\"transaction_date\").show()\n",
    "\n",
    "\n",
    "        #customerInputDF = spark.read.table(\"default.customer_delta_table_persist\")\n",
    "        #customerInputDF.show()\n",
    "\n",
    "        \n",
    "\n",
    "\n",
    "\n",
    "        #inputDf = {\n",
    "         ##  \"customerInputDF\": customerInputDF\n",
    "        #}\n",
    "\n",
    "        #Customer who have bought Airpods after buying an iPhone\n",
    "        #firstTransform = FirstTransform(self.spark).transform(inputDf)\n",
    "\n",
    "        #return firstTransform\n",
    "print(AirpodsAfterIphoneExtractor.__init__)\n",
    "\n",
    "workflow = WorkFlow().runner()\n",
    "\n",
    "#LEAD(product_name) -> Partition By: customer_id and Order By: transaction_date asc"
   ]
  },
  {
   "cell_type": "code",
   "execution_count": 0,
   "metadata": {
    "application/vnd.databricks.v1+cell": {
     "cellMetadata": {
      "byteLimit": 2048000,
      "rowLimit": 10000
     },
     "inputWidgets": {},
     "nuid": "f070583d-dd72-4270-97f7-dee714a4d38c",
     "showTitle": false,
     "tableResultSettingsMap": {},
     "title": ""
    }
   },
   "outputs": [
    {
     "output_type": "stream",
     "name": "stdout",
     "output_type": "stream",
     "text": [
      "+-----------+-------------+----------+--------+\n|customer_id|customer_name| join_date|location|\n+-----------+-------------+----------+--------+\n|        105|          Eva|2022-01-01|    Ohio|\n|        106|        Frank|2022-02-01|  Nevada|\n|        107|        Grace|2022-03-01|Colorado|\n|        108|        Henry|2022-04-01|    Utah|\n+-----------+-------------+----------+--------+\n\n"
     ]
    }
   ],
   "source": [
    "from pyspark.sql import SparkSession\n",
    "spark = SparkSession.builder.appName(\"thebigdatashow.me\").getOrCreate()\n",
    "\n",
    "input_df = spark.read.format(\"csv\")\\\n",
    "    .option(\"header\", \"true\")\\\n",
    "        .load(\"/FileStore/tables/Customer_Updated-3.csv\")\n",
    "input_df.show()"
   ]
  },
  {
   "cell_type": "code",
   "execution_count": 0,
   "metadata": {
    "application/vnd.databricks.v1+cell": {
     "cellMetadata": {
      "byteLimit": 2048000,
      "rowLimit": 10000
     },
     "inputWidgets": {},
     "nuid": "1e585463-8a2e-4eb0-abe9-f9d2a35e7dbb",
     "showTitle": false,
     "tableResultSettingsMap": {},
     "title": ""
    }
   },
   "outputs": [
    {
     "output_type": "stream",
     "name": "stdout",
     "output_type": "stream",
     "text": [
      "+--------------+-----------+------------+----------------+\n|transaction_id|customer_id|product_name|transaction_date|\n+--------------+-----------+------------+----------------+\n|            11|        105|      iPhone|      2022-02-01|\n|            12|        106|      iPhone|      2022-02-02|\n|            13|        107|     AirPods|      2022-02-03|\n|            14|        105|     AirPods|      2022-02-04|\n|            15|        108|      iPhone|      2022-02-05|\n|            16|        106|     MacBook|      2022-02-06|\n|            17|        107|      iPhone|      2022-02-07|\n|            18|        105|     MacBook|      2022-02-08|\n|            19|        108|     AirPods|      2022-02-09|\n|            20|        106|     AirPods|      2022-02-10|\n+--------------+-----------+------------+----------------+\n\n"
     ]
    }
   ],
   "source": [
    "input_df1 = spark.read.format(\"csv\")\\\n",
    "    .option(\"header\",\"true\")\\\n",
    "        .load(\"/FileStore/tables/Transaction_Updated.csv\")\n",
    "\n",
    "input_df1.show()"
   ]
  },
  {
   "cell_type": "code",
   "execution_count": 0,
   "metadata": {
    "application/vnd.databricks.v1+cell": {
     "cellMetadata": {},
     "inputWidgets": {},
     "nuid": "ce844cd8-4686-47e8-85e1-61c49d4a86ed",
     "showTitle": false,
     "tableResultSettingsMap": {},
     "title": ""
    }
   },
   "outputs": [],
   "source": []
  }
 ],
 "metadata": {
  "application/vnd.databricks.v1+notebook": {
   "computePreferences": null,
   "dashboards": [
    {
     "elements": [],
     "globalVars": {},
     "guid": "",
     "layoutOption": {
      "grid": true,
      "stack": true
     },
     "nuid": "62dda7a6-891d-43d5-9302-bd57301af69e",
     "origId": 2039964023972721,
     "title": "Untitled",
     "version": "DashboardViewV1",
     "width": 1024
    }
   ],
   "environmentMetadata": {
    "base_environment": "",
    "environment_version": "1"
   },
   "inputWidgetPreferences": null,
   "language": "python",
   "notebookMetadata": {
    "pythonIndentUnit": 4
   },
   "notebookName": "Apple_analysis",
   "widgets": {}
  }
 },
 "nbformat": 4,
 "nbformat_minor": 0
}