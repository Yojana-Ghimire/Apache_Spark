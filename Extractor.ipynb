{
 "cells": [
  {
   "cell_type": "code",
   "execution_count": 0,
   "metadata": {
    "application/vnd.databricks.v1+cell": {
     "cellMetadata": {
      "byteLimit": 2048000,
      "rowLimit": 10000
     },
     "inputWidgets": {},
     "nuid": "2e343f0d-b405-4439-b225-9ad9deaca23d",
     "showTitle": false,
     "tableResultSettingsMap": {},
     "title": ""
    }
   },
   "outputs": [],
   "source": [
    "%run \"/Users/yojanaghimire5@gmail.com/Apple/reader_facatory\""
   ]
  },
  {
   "cell_type": "code",
   "execution_count": 0,
   "metadata": {
    "application/vnd.databricks.v1+cell": {
     "cellMetadata": {
      "byteLimit": 2048000,
      "rowLimit": 10000
     },
     "inputWidgets": {},
     "nuid": "8fb535ce-0f6f-435a-82fd-9bb8d8f68b12",
     "showTitle": false,
     "tableResultSettingsMap": {},
     "title": ""
    }
   },
   "outputs": [],
   "source": [
    "class Extractor:\n",
    "    \"\"\"\n",
    "    Abstract class\n",
    "    \"\"\"\n",
    "    def __init__(self):\n",
    "        pass\n",
    "    def extract(self):\n",
    "        pass\n",
    "\n",
    "class AirpodsAfterIphoneExtractor(Extractor):\n",
    "    def __init__(self, spark):\n",
    "        self.spark = spark\n",
    "\n",
    "    def extract(self):\n",
    "        \"\"\"\n",
    "        Implement the steps for extracting or reading the data\n",
    "        \"\"\"\n",
    "        transactionInputDf  = get_data_source(\n",
    "            data_type= \"csv\",\n",
    "            file_path= \"/FileStore/tables/Transaction_Updated.csv\",\n",
    "            spark = self.spark\n",
    "        ).get_dataframe()\n",
    "\n",
    "        transactionInputDf.orderBy(\"customer_id\",\"transaction_date\").show()\n",
    "\n",
    "\n",
    "        customerInputDF = self.spark.read.table(\"default.customer_delta_table\")\n",
    "        customerInputDF.show()\n",
    "\n",
    "        \n",
    "\n",
    "\n",
    "\n",
    "        inputDf = {\n",
    "            \"transactionInputDf\" : transactionInputDf,\n",
    "            \"customerInputDF\": customerInputDF\n",
    "        }\n",
    "\n",
    "        return inputDf\n"
   ]
  },
  {
   "cell_type": "code",
   "execution_count": 0,
   "metadata": {
    "application/vnd.databricks.v1+cell": {
     "cellMetadata": {},
     "inputWidgets": {},
     "nuid": "c763c3e6-984c-46b0-a57b-8b8e0eeb2fb3",
     "showTitle": false,
     "tableResultSettingsMap": {},
     "title": ""
    }
   },
   "outputs": [],
   "source": [
    "\n"
   ]
  }
 ],
 "metadata": {
  "application/vnd.databricks.v1+notebook": {
   "computePreferences": null,
   "dashboards": [],
   "environmentMetadata": {
    "base_environment": "",
    "environment_version": "1"
   },
   "inputWidgetPreferences": null,
   "language": "python",
   "notebookMetadata": {
    "pythonIndentUnit": 4
   },
   "notebookName": "Extractor",
   "widgets": {}
  }
 },
 "nbformat": 4,
 "nbformat_minor": 0
}