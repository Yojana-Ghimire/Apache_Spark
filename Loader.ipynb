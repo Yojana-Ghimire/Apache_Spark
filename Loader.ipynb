{
 "cells": [
  {
   "cell_type": "code",
   "execution_count": 0,
   "metadata": {
    "application/vnd.databricks.v1+cell": {
     "cellMetadata": {
      "byteLimit": 2048000,
      "rowLimit": 10000
     },
     "inputWidgets": {},
     "nuid": "141803f1-f7a9-4b23-b210-54eec89d1028",
     "showTitle": false,
     "tableResultSettingsMap": {},
     "title": ""
    }
   },
   "outputs": [],
   "source": [
    "%run \"/Users/yojanaghimire5@gmail.com/Apple/Loader_factory\""
   ]
  },
  {
   "cell_type": "code",
   "execution_count": 0,
   "metadata": {
    "application/vnd.databricks.v1+cell": {
     "cellMetadata": {
      "byteLimit": 2048000,
      "rowLimit": 10000
     },
     "inputWidgets": {},
     "nuid": "7f611762-ae8c-4f7c-8aea-d2659f9f4601",
     "showTitle": false,
     "tableResultSettingsMap": {},
     "title": ""
    }
   },
   "outputs": [],
   "source": [
    "class AbstractLoader:\n",
    "    def __init__(self, transformDF):\n",
    "        self.transformDF = transformDF\n",
    "    def sink(self):\n",
    "        pass\n",
    "class AirPodsAfterIphoneLoader(AbstractLoader):\n",
    "\n",
    "    def sink(self):\n",
    "        get_sink_source(\n",
    "            sink_type= 'dbfs',\n",
    "            df = self.transformDF,\n",
    "            path = \"/FileStore/tables/AirpodsAfteriphone\",\n",
    "            method = \"overwrite\",\n",
    "            params={}\n",
    "        ).load_dataframe()\n",
    "        "
   ]
  },
  {
   "cell_type": "code",
   "execution_count": 0,
   "metadata": {
    "application/vnd.databricks.v1+cell": {
     "cellMetadata": {},
     "inputWidgets": {},
     "nuid": "4408c06c-36ef-4818-a512-1f7c55cdf828",
     "showTitle": false,
     "tableResultSettingsMap": {},
     "title": ""
    }
   },
   "outputs": [],
   "source": []
  }
 ],
 "metadata": {
  "application/vnd.databricks.v1+notebook": {
   "computePreferences": null,
   "dashboards": [],
   "environmentMetadata": {
    "base_environment": "",
    "environment_version": "1"
   },
   "inputWidgetPreferences": null,
   "language": "python",
   "notebookMetadata": {
    "pythonIndentUnit": 4
   },
   "notebookName": "Loader",
   "widgets": {}
  }
 },
 "nbformat": 4,
 "nbformat_minor": 0
}