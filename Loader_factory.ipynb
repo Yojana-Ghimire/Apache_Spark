{
 "cells": [
  {
   "cell_type": "code",
   "execution_count": 0,
   "metadata": {
    "application/vnd.databricks.v1+cell": {
     "cellMetadata": {
      "byteLimit": 2048000,
      "rowLimit": 10000
     },
     "inputWidgets": {},
     "nuid": "fee0972a-cba7-430b-aa34-6213f1f70413",
     "showTitle": false,
     "tableResultSettingsMap": {},
     "title": ""
    }
   },
   "outputs": [],
   "source": [
    "class DataSink:\n",
    "    \"\"\"\n",
    "    Abstract class for loading a DataFrame to a sink.\n",
    "    \"\"\"\n",
    "\n",
    "    def __init__(self, df, path, method, params):\n",
    "        self.df = df\n",
    "        self.path = path\n",
    "        self.method = method\n",
    "        self.params = params\n",
    "\n",
    "    def load_dataframe(self):\n",
    "        \"\"\"\n",
    "        Abstract method to be implemented by subclasses.\n",
    "        \"\"\"\n",
    "        raise NotImplementedError(\"load_dataframe() is not implemented\")\n",
    "\n",
    "\n",
    "class LoadToDBFS(DataSink):\n",
    "    def load_dataframe(self):\n",
    "        self.df.write.mode(self.method).save(self.path)\n",
    "\n",
    "\n",
    "class LoadToDBFSWithPartition(DataSink):\n",
    "    def load_dataframe(self):\n",
    "        partitionByColumns = self.params.get(\"partitionByColumns\")\n",
    "        self.df.write.mode(self.method).partitionBy(*partitionByColumns).save(self.path)\n",
    "\n",
    "\n",
    "def get_sink_source(sink_type, df, path, method, params):\n",
    "    if sink_type == \"dbfs\":\n",
    "        return LoadToDBFS(df, path, method, params)\n",
    "    elif sink_type == \"dbfs_with_partition\":\n",
    "        return LoadToDBFSWithPartition(df, path, method, params)\n",
    "    else:\n",
    "        raise ValueError(f\"Not implemented for sink type: {sink_type}\")\n"
   ]
  },
  {
   "cell_type": "code",
   "execution_count": 0,
   "metadata": {
    "application/vnd.databricks.v1+cell": {
     "cellMetadata": {},
     "inputWidgets": {},
     "nuid": "42334b4e-777d-4fce-b291-078f9a6aa7ee",
     "showTitle": false,
     "tableResultSettingsMap": {},
     "title": ""
    }
   },
   "outputs": [],
   "source": []
  }
 ],
 "metadata": {
  "application/vnd.databricks.v1+notebook": {
   "computePreferences": null,
   "dashboards": [],
   "environmentMetadata": {
    "base_environment": "",
    "environment_version": "1"
   },
   "inputWidgetPreferences": null,
   "language": "python",
   "notebookMetadata": {
    "pythonIndentUnit": 4
   },
   "notebookName": "Loader_factory",
   "widgets": {}
  }
 },
 "nbformat": 4,
 "nbformat_minor": 0
}