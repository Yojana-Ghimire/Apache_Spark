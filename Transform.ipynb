{
 "cells": [
  {
   "cell_type": "code",
   "execution_count": 0,
   "metadata": {
    "application/vnd.databricks.v1+cell": {
     "cellMetadata": {
      "byteLimit": 2048000,
      "rowLimit": 10000
     },
     "inputWidgets": {},
     "nuid": "2561aada-0aa8-4470-8cac-a84030c204d7",
     "showTitle": false,
     "tableResultSettingsMap": {},
     "title": ""
    }
   },
   "outputs": [],
   "source": [
    "from pyspark.sql.window import Window\n",
    "from pyspark.sql.functions import *\n",
    "\n",
    "class Transformer:\n",
    "    def __init__(self,spark):\n",
    "        self.spark = spark\n",
    "    \n",
    "    def transform(self, inputDf):\n",
    "        pass\n",
    "class FirstTransform(Transformer):\n",
    "    def __init__(self, spark):\n",
    "        self.spark = spark\n",
    "\n",
    "    def transform(self, inputDf):\n",
    "        \"\"\"\n",
    "        Customer who have bought Airpods after buying an iphone\n",
    "        \"\"\"\n",
    "\n",
    "        transactionInputDf = inputDf.get(\"transactionInputDf\")\n",
    "\n",
    "        print(\"transactionInputDF in transform\")\n",
    "\n",
    "        transactionInputDf.show()\n",
    "\n",
    "        #Airpods after buying iphone\n",
    "\n",
    "        windowSpec = Window.partitionBy(\"customer_id\").orderBy(\"transaction_date\")\n",
    "\n",
    "        transformedDF = transactionInputDf.withColumn(\n",
    "            \"next_product_name\",lead(\"product_name\").over(windowSpec)\n",
    "        )\n",
    "\n",
    "        print(\"Airpods after buying iphone\")\n",
    "        transformedDF.orderBy(\"customer_id\", \"transaction_date\", \"product_name\").show()\n",
    "\n",
    "        filteredDF = transformedDF.filter(\n",
    "            (col(\"product_name\") == 'iphone') & (col(\"next_product_name\") == 'Airpods')\n",
    "        )\n",
    "\n",
    "        filteredDF.orderBy(\"customer_id\", \"transaction_date\", \"product_name\").show()\n",
    "\n",
    "        customerInputDF = inputDf.get(\"customerInputDF\")\n",
    "\n",
    "        customerInputDF.show()\n",
    "\n",
    "        joinDF = customerInputDF.join(\n",
    "            broadcast(filteredDF),\n",
    "            on = \"customer_id\"\n",
    "        )\n",
    "\n",
    "        print(\"JOINED DF\")\n",
    "        joinDF.select(\n",
    "            \"customer_id\",\n",
    "            \"customer_name\",\n",
    "            \"location\"\n",
    "        ).show()\n",
    "\n",
    "        return filteredDF\n",
    "        \n",
    "\n",
    "        return transformedDF    "
   ]
  },
  {
   "cell_type": "code",
   "execution_count": 0,
   "metadata": {
    "application/vnd.databricks.v1+cell": {
     "cellMetadata": {},
     "inputWidgets": {},
     "nuid": "b202af71-44fd-4973-93a3-e516d62b216d",
     "showTitle": false,
     "tableResultSettingsMap": {},
     "title": ""
    }
   },
   "outputs": [],
   "source": []
  }
 ],
 "metadata": {
  "application/vnd.databricks.v1+notebook": {
   "computePreferences": null,
   "dashboards": [],
   "environmentMetadata": {
    "base_environment": "",
    "environment_version": "1"
   },
   "inputWidgetPreferences": null,
   "language": "python",
   "notebookMetadata": {
    "pythonIndentUnit": 4
   },
   "notebookName": "Transform",
   "widgets": {}
  }
 },
 "nbformat": 4,
 "nbformat_minor": 0
}