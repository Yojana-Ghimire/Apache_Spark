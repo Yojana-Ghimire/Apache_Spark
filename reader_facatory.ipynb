{
 "cells": [
  {
   "cell_type": "code",
   "execution_count": 0,
   "metadata": {
    "application/vnd.databricks.v1+cell": {
     "cellMetadata": {
      "byteLimit": 2048000,
      "rowLimit": 10000
     },
     "inputWidgets": {},
     "nuid": "3ae9f96d-f90c-4705-a303-c548a4e5a5d7",
     "showTitle": false,
     "tableResultSettingsMap": {},
     "title": ""
    }
   },
   "outputs": [],
   "source": [
    "class DataSource:\n",
    "    def __init__(self, path, spark):\n",
    "        self.path = path\n",
    "        self.spark = spark\n",
    "\n",
    "    def get_dataframe(self):\n",
    "        raise NotImplementedError(\"get_dataframe() is not implemented\")\n",
    "\n",
    "\n",
    "class CSVDataSource(DataSource):\n",
    "    def get_dataframe(self):\n",
    "        return self.spark.read.format(\"csv\").option(\"header\", \"true\").load(self.path)\n",
    "\n",
    "\n",
    "class ParquetDataSource(DataSource):\n",
    "    def get_dataframe(self):\n",
    "        return self.spark.read.format(\"parquet\").load(self.path)\n",
    "\n",
    "\n",
    "class DeltaDataSource(DataSource):\n",
    "    def get_dataframe(self):\n",
    "        return self.spark.read.format(\"delta\").load(self.path)\n",
    "\n",
    "\n",
    "def get_data_source(data_type, file_path, spark):\n",
    "    if data_type == \"csv\":\n",
    "        return CSVDataSource(file_path, spark)\n",
    "    elif data_type == \"parquet\":\n",
    "        return ParquetDataSource(file_path, spark)\n",
    "    elif data_type == \"delta\":\n",
    "        return DeltaDataSource(file_path, spark)\n",
    "    else:\n",
    "        raise ValueError(f\"Not implemented for data_type: {data_type}\")\n"
   ]
  },
  {
   "cell_type": "code",
   "execution_count": 0,
   "metadata": {
    "application/vnd.databricks.v1+cell": {
     "cellMetadata": {},
     "inputWidgets": {},
     "nuid": "d0abdac8-43f3-4f2f-9bd0-55d9348bdc4a",
     "showTitle": false,
     "tableResultSettingsMap": {},
     "title": ""
    }
   },
   "outputs": [],
   "source": []
  }
 ],
 "metadata": {
  "application/vnd.databricks.v1+notebook": {
   "computePreferences": null,
   "dashboards": [],
   "environmentMetadata": {
    "base_environment": "",
    "environment_version": "1"
   },
   "inputWidgetPreferences": null,
   "language": "python",
   "notebookMetadata": {
    "pythonIndentUnit": 4
   },
   "notebookName": "reader_facatory",
   "widgets": {}
  }
 },
 "nbformat": 4,
 "nbformat_minor": 0
}